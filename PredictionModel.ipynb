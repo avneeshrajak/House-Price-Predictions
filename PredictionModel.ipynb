{
 "cells": [
  {
   "cell_type": "markdown",
   "metadata": {},
   "source": [
    "# Improting Relevant Laibraries"
   ]
  },
  {
   "cell_type": "code",
   "execution_count": 1,
   "metadata": {},
   "outputs": [],
   "source": [
    "import numpy as np\n",
    "import matplotlib.pyplot as plt\n",
    "import pandas as pd\n",
    "import seaborn as sns\n",
    "import warnings \n",
    "warnings.filterwarnings('ignore')"
   ]
  },
  {
   "cell_type": "code",
   "execution_count": 2,
   "metadata": {},
   "outputs": [],
   "source": [
    "from keras.wrappers.scikit_learn import KerasRegressor\n",
    "from sklearn.model_selection import cross_val_score\n",
    "from sklearn.model_selection import KFold\n",
    "from sklearn.pipeline import Pipeline"
   ]
  },
  {
   "cell_type": "markdown",
   "metadata": {},
   "source": [
    "# Loading Data"
   ]
  },
  {
   "cell_type": "code",
   "execution_count": 3,
   "metadata": {},
   "outputs": [],
   "source": [
    "df=pd.read_csv('HousePricing.csv')"
   ]
  },
  {
   "cell_type": "code",
   "execution_count": 4,
   "metadata": {},
   "outputs": [
    {
     "data": {
      "text/html": [
       "<div>\n",
       "<style scoped>\n",
       "    .dataframe tbody tr th:only-of-type {\n",
       "        vertical-align: middle;\n",
       "    }\n",
       "\n",
       "    .dataframe tbody tr th {\n",
       "        vertical-align: top;\n",
       "    }\n",
       "\n",
       "    .dataframe thead th {\n",
       "        text-align: right;\n",
       "    }\n",
       "</style>\n",
       "<table border=\"1\" class=\"dataframe\">\n",
       "  <thead>\n",
       "    <tr style=\"text-align: right;\">\n",
       "      <th></th>\n",
       "      <th>price</th>\n",
       "      <th>bedrooms</th>\n",
       "      <th>bathrooms</th>\n",
       "      <th>sqft_living</th>\n",
       "      <th>sqft_lot</th>\n",
       "      <th>floors</th>\n",
       "      <th>view</th>\n",
       "      <th>condition</th>\n",
       "      <th>sqft_above</th>\n",
       "      <th>sqft_basement</th>\n",
       "      <th>yr_built</th>\n",
       "      <th>yr_renovated</th>\n",
       "    </tr>\n",
       "  </thead>\n",
       "  <tbody>\n",
       "    <tr>\n",
       "      <th>0</th>\n",
       "      <td>313000.0</td>\n",
       "      <td>3</td>\n",
       "      <td>1.50</td>\n",
       "      <td>1340</td>\n",
       "      <td>7912</td>\n",
       "      <td>1.5</td>\n",
       "      <td>0</td>\n",
       "      <td>3</td>\n",
       "      <td>1340</td>\n",
       "      <td>0</td>\n",
       "      <td>1955</td>\n",
       "      <td>2005</td>\n",
       "    </tr>\n",
       "    <tr>\n",
       "      <th>1</th>\n",
       "      <td>2384000.0</td>\n",
       "      <td>5</td>\n",
       "      <td>2.50</td>\n",
       "      <td>3650</td>\n",
       "      <td>9050</td>\n",
       "      <td>2.0</td>\n",
       "      <td>4</td>\n",
       "      <td>5</td>\n",
       "      <td>3370</td>\n",
       "      <td>280</td>\n",
       "      <td>1921</td>\n",
       "      <td>0</td>\n",
       "    </tr>\n",
       "    <tr>\n",
       "      <th>2</th>\n",
       "      <td>342000.0</td>\n",
       "      <td>3</td>\n",
       "      <td>2.00</td>\n",
       "      <td>1930</td>\n",
       "      <td>11947</td>\n",
       "      <td>1.0</td>\n",
       "      <td>0</td>\n",
       "      <td>4</td>\n",
       "      <td>1930</td>\n",
       "      <td>0</td>\n",
       "      <td>1966</td>\n",
       "      <td>0</td>\n",
       "    </tr>\n",
       "    <tr>\n",
       "      <th>3</th>\n",
       "      <td>420000.0</td>\n",
       "      <td>3</td>\n",
       "      <td>2.25</td>\n",
       "      <td>2000</td>\n",
       "      <td>8030</td>\n",
       "      <td>1.0</td>\n",
       "      <td>0</td>\n",
       "      <td>4</td>\n",
       "      <td>1000</td>\n",
       "      <td>1000</td>\n",
       "      <td>1963</td>\n",
       "      <td>0</td>\n",
       "    </tr>\n",
       "    <tr>\n",
       "      <th>4</th>\n",
       "      <td>550000.0</td>\n",
       "      <td>4</td>\n",
       "      <td>2.50</td>\n",
       "      <td>1940</td>\n",
       "      <td>10500</td>\n",
       "      <td>1.0</td>\n",
       "      <td>0</td>\n",
       "      <td>4</td>\n",
       "      <td>1140</td>\n",
       "      <td>800</td>\n",
       "      <td>1976</td>\n",
       "      <td>1992</td>\n",
       "    </tr>\n",
       "  </tbody>\n",
       "</table>\n",
       "</div>"
      ],
      "text/plain": [
       "       price  bedrooms  bathrooms  sqft_living  sqft_lot  floors  view  \\\n",
       "0   313000.0         3       1.50         1340      7912     1.5     0   \n",
       "1  2384000.0         5       2.50         3650      9050     2.0     4   \n",
       "2   342000.0         3       2.00         1930     11947     1.0     0   \n",
       "3   420000.0         3       2.25         2000      8030     1.0     0   \n",
       "4   550000.0         4       2.50         1940     10500     1.0     0   \n",
       "\n",
       "   condition  sqft_above  sqft_basement  yr_built  yr_renovated  \n",
       "0          3        1340              0      1955          2005  \n",
       "1          5        3370            280      1921             0  \n",
       "2          4        1930              0      1966             0  \n",
       "3          4        1000           1000      1963             0  \n",
       "4          4        1140            800      1976          1992  "
      ]
     },
     "execution_count": 4,
     "metadata": {},
     "output_type": "execute_result"
    }
   ],
   "source": [
    "df.head()"
   ]
  },
  {
   "cell_type": "code",
   "execution_count": 5,
   "metadata": {
    "scrolled": false
   },
   "outputs": [
    {
     "data": {
      "text/html": [
       "<div>\n",
       "<style scoped>\n",
       "    .dataframe tbody tr th:only-of-type {\n",
       "        vertical-align: middle;\n",
       "    }\n",
       "\n",
       "    .dataframe tbody tr th {\n",
       "        vertical-align: top;\n",
       "    }\n",
       "\n",
       "    .dataframe thead th {\n",
       "        text-align: right;\n",
       "    }\n",
       "</style>\n",
       "<table border=\"1\" class=\"dataframe\">\n",
       "  <thead>\n",
       "    <tr style=\"text-align: right;\">\n",
       "      <th></th>\n",
       "      <th>price</th>\n",
       "      <th>bedrooms</th>\n",
       "      <th>bathrooms</th>\n",
       "      <th>sqft_living</th>\n",
       "      <th>sqft_lot</th>\n",
       "      <th>floors</th>\n",
       "      <th>view</th>\n",
       "      <th>condition</th>\n",
       "      <th>sqft_above</th>\n",
       "      <th>sqft_basement</th>\n",
       "      <th>yr_built</th>\n",
       "      <th>yr_renovated</th>\n",
       "    </tr>\n",
       "  </thead>\n",
       "  <tbody>\n",
       "    <tr>\n",
       "      <th>count</th>\n",
       "      <td>4.600000e+03</td>\n",
       "      <td>4600.000000</td>\n",
       "      <td>4600.000000</td>\n",
       "      <td>4600.000000</td>\n",
       "      <td>4.600000e+03</td>\n",
       "      <td>4600.000000</td>\n",
       "      <td>4600.000000</td>\n",
       "      <td>4600.000000</td>\n",
       "      <td>4600.000000</td>\n",
       "      <td>4600.000000</td>\n",
       "      <td>4600.000000</td>\n",
       "      <td>4600.000000</td>\n",
       "    </tr>\n",
       "    <tr>\n",
       "      <th>mean</th>\n",
       "      <td>5.519630e+05</td>\n",
       "      <td>3.400870</td>\n",
       "      <td>2.160815</td>\n",
       "      <td>2139.346957</td>\n",
       "      <td>1.485252e+04</td>\n",
       "      <td>1.512065</td>\n",
       "      <td>0.240652</td>\n",
       "      <td>3.451739</td>\n",
       "      <td>1827.265435</td>\n",
       "      <td>312.081522</td>\n",
       "      <td>1970.786304</td>\n",
       "      <td>808.608261</td>\n",
       "    </tr>\n",
       "    <tr>\n",
       "      <th>std</th>\n",
       "      <td>5.638347e+05</td>\n",
       "      <td>0.908848</td>\n",
       "      <td>0.783781</td>\n",
       "      <td>963.206916</td>\n",
       "      <td>3.588444e+04</td>\n",
       "      <td>0.538288</td>\n",
       "      <td>0.778405</td>\n",
       "      <td>0.677230</td>\n",
       "      <td>862.168977</td>\n",
       "      <td>464.137228</td>\n",
       "      <td>29.731848</td>\n",
       "      <td>979.414536</td>\n",
       "    </tr>\n",
       "    <tr>\n",
       "      <th>min</th>\n",
       "      <td>0.000000e+00</td>\n",
       "      <td>0.000000</td>\n",
       "      <td>0.000000</td>\n",
       "      <td>370.000000</td>\n",
       "      <td>6.380000e+02</td>\n",
       "      <td>1.000000</td>\n",
       "      <td>0.000000</td>\n",
       "      <td>1.000000</td>\n",
       "      <td>370.000000</td>\n",
       "      <td>0.000000</td>\n",
       "      <td>1900.000000</td>\n",
       "      <td>0.000000</td>\n",
       "    </tr>\n",
       "    <tr>\n",
       "      <th>25%</th>\n",
       "      <td>3.228750e+05</td>\n",
       "      <td>3.000000</td>\n",
       "      <td>1.750000</td>\n",
       "      <td>1460.000000</td>\n",
       "      <td>5.000750e+03</td>\n",
       "      <td>1.000000</td>\n",
       "      <td>0.000000</td>\n",
       "      <td>3.000000</td>\n",
       "      <td>1190.000000</td>\n",
       "      <td>0.000000</td>\n",
       "      <td>1951.000000</td>\n",
       "      <td>0.000000</td>\n",
       "    </tr>\n",
       "    <tr>\n",
       "      <th>50%</th>\n",
       "      <td>4.609435e+05</td>\n",
       "      <td>3.000000</td>\n",
       "      <td>2.250000</td>\n",
       "      <td>1980.000000</td>\n",
       "      <td>7.683000e+03</td>\n",
       "      <td>1.500000</td>\n",
       "      <td>0.000000</td>\n",
       "      <td>3.000000</td>\n",
       "      <td>1590.000000</td>\n",
       "      <td>0.000000</td>\n",
       "      <td>1976.000000</td>\n",
       "      <td>0.000000</td>\n",
       "    </tr>\n",
       "    <tr>\n",
       "      <th>75%</th>\n",
       "      <td>6.549625e+05</td>\n",
       "      <td>4.000000</td>\n",
       "      <td>2.500000</td>\n",
       "      <td>2620.000000</td>\n",
       "      <td>1.100125e+04</td>\n",
       "      <td>2.000000</td>\n",
       "      <td>0.000000</td>\n",
       "      <td>4.000000</td>\n",
       "      <td>2300.000000</td>\n",
       "      <td>610.000000</td>\n",
       "      <td>1997.000000</td>\n",
       "      <td>1999.000000</td>\n",
       "    </tr>\n",
       "    <tr>\n",
       "      <th>max</th>\n",
       "      <td>2.659000e+07</td>\n",
       "      <td>9.000000</td>\n",
       "      <td>8.000000</td>\n",
       "      <td>13540.000000</td>\n",
       "      <td>1.074218e+06</td>\n",
       "      <td>3.500000</td>\n",
       "      <td>4.000000</td>\n",
       "      <td>5.000000</td>\n",
       "      <td>9410.000000</td>\n",
       "      <td>4820.000000</td>\n",
       "      <td>2014.000000</td>\n",
       "      <td>2014.000000</td>\n",
       "    </tr>\n",
       "  </tbody>\n",
       "</table>\n",
       "</div>"
      ],
      "text/plain": [
       "              price     bedrooms    bathrooms   sqft_living      sqft_lot  \\\n",
       "count  4.600000e+03  4600.000000  4600.000000   4600.000000  4.600000e+03   \n",
       "mean   5.519630e+05     3.400870     2.160815   2139.346957  1.485252e+04   \n",
       "std    5.638347e+05     0.908848     0.783781    963.206916  3.588444e+04   \n",
       "min    0.000000e+00     0.000000     0.000000    370.000000  6.380000e+02   \n",
       "25%    3.228750e+05     3.000000     1.750000   1460.000000  5.000750e+03   \n",
       "50%    4.609435e+05     3.000000     2.250000   1980.000000  7.683000e+03   \n",
       "75%    6.549625e+05     4.000000     2.500000   2620.000000  1.100125e+04   \n",
       "max    2.659000e+07     9.000000     8.000000  13540.000000  1.074218e+06   \n",
       "\n",
       "            floors         view    condition   sqft_above  sqft_basement  \\\n",
       "count  4600.000000  4600.000000  4600.000000  4600.000000    4600.000000   \n",
       "mean      1.512065     0.240652     3.451739  1827.265435     312.081522   \n",
       "std       0.538288     0.778405     0.677230   862.168977     464.137228   \n",
       "min       1.000000     0.000000     1.000000   370.000000       0.000000   \n",
       "25%       1.000000     0.000000     3.000000  1190.000000       0.000000   \n",
       "50%       1.500000     0.000000     3.000000  1590.000000       0.000000   \n",
       "75%       2.000000     0.000000     4.000000  2300.000000     610.000000   \n",
       "max       3.500000     4.000000     5.000000  9410.000000    4820.000000   \n",
       "\n",
       "          yr_built  yr_renovated  \n",
       "count  4600.000000   4600.000000  \n",
       "mean   1970.786304    808.608261  \n",
       "std      29.731848    979.414536  \n",
       "min    1900.000000      0.000000  \n",
       "25%    1951.000000      0.000000  \n",
       "50%    1976.000000      0.000000  \n",
       "75%    1997.000000   1999.000000  \n",
       "max    2014.000000   2014.000000  "
      ]
     },
     "execution_count": 5,
     "metadata": {},
     "output_type": "execute_result"
    }
   ],
   "source": [
    "df.describe(include='all')"
   ]
  },
  {
   "cell_type": "code",
   "execution_count": 6,
   "metadata": {},
   "outputs": [],
   "source": [
    "X = df.drop('price', axis = 1)\n",
    "y = df['price']"
   ]
  },
  {
   "cell_type": "code",
   "execution_count": 7,
   "metadata": {},
   "outputs": [],
   "source": [
    "data=df.reset_index()"
   ]
  },
  {
   "cell_type": "markdown",
   "metadata": {},
   "source": [
    "# Train Teat Split"
   ]
  },
  {
   "cell_type": "code",
   "execution_count": 8,
   "metadata": {},
   "outputs": [],
   "source": [
    "from sklearn.model_selection import train_test_split\n",
    "X_train, X_test, y_train, y_test = train_test_split(X, y, test_size = 0.25, random_state = 20)"
   ]
  },
  {
   "cell_type": "code",
   "execution_count": 9,
   "metadata": {},
   "outputs": [
    {
     "data": {
      "text/plain": [
       "(4600,)"
      ]
     },
     "execution_count": 9,
     "metadata": {},
     "output_type": "execute_result"
    }
   ],
   "source": [
    "y.shape"
   ]
  },
  {
   "cell_type": "markdown",
   "metadata": {},
   "source": [
    "# Scaling The Inputs"
   ]
  },
  {
   "cell_type": "code",
   "execution_count": 10,
   "metadata": {},
   "outputs": [],
   "source": [
    "from sklearn.preprocessing import StandardScaler\n",
    "scaler=StandardScaler()\n",
    "scaler.fit(X_train)\n",
    "\n",
    "X_train_scaled = scaler.transform(X_train) \n",
    "X_test_scaled = scaler.transform(X_test)"
   ]
  },
  {
   "cell_type": "code",
   "execution_count": 11,
   "metadata": {},
   "outputs": [
    {
     "data": {
      "text/plain": [
       "array([[ 0.65556839,  0.11045493,  0.99117383, ..., -0.67927447,\n",
       "        -0.0362029 , -0.83278755],\n",
       "       [-0.4402218 ,  0.42934156,  0.57777853, ..., -0.67927447,\n",
       "         1.4118153 ,  1.12756409],\n",
       "       [-1.53601199, -1.48397821, -1.26660048, ..., -0.67927447,\n",
       "        -2.02301855,  1.16018565],\n",
       "       ...,\n",
       "       [ 0.65556839, -0.20843169,  0.52477914, ..., -0.67927447,\n",
       "        -0.6086752 ,  1.18872951],\n",
       "       [-0.4402218 , -0.52731832, -0.85320519, ..., -0.67927447,\n",
       "         0.90669267,  1.21217625],\n",
       "       [ 1.75135858,  2.0237747 ,  3.38674658, ...,  3.17350147,\n",
       "         1.17609141, -0.83278755]])"
      ]
     },
     "execution_count": 11,
     "metadata": {},
     "output_type": "execute_result"
    }
   ],
   "source": [
    "X_test_scaled"
   ]
  },
  {
   "cell_type": "code",
   "execution_count": 12,
   "metadata": {},
   "outputs": [
    {
     "data": {
      "text/plain": [
       "((3450, 11), (1150, 11))"
      ]
     },
     "execution_count": 12,
     "metadata": {},
     "output_type": "execute_result"
    }
   ],
   "source": [
    "X_train.shape,X_test.shape"
   ]
  },
  {
   "cell_type": "markdown",
   "metadata": {},
   "source": [
    "# NN Model"
   ]
  },
  {
   "cell_type": "code",
   "execution_count": 13,
   "metadata": {},
   "outputs": [],
   "source": [
    "import tensorflow as tf\n",
    "from tensorflow import keras"
   ]
  },
  {
   "cell_type": "code",
   "execution_count": 14,
   "metadata": {},
   "outputs": [
    {
     "name": "stdout",
     "output_type": "stream",
     "text": [
      "Epoch 1/125\n",
      "87/87 - 1s - loss: 562512.4375 - val_loss: 525973.9375\n",
      "Epoch 2/125\n",
      "87/87 - 0s - loss: 513451.0312 - val_loss: 364864.6875\n",
      "Epoch 3/125\n",
      "87/87 - 0s - loss: 309842.7500 - val_loss: 215792.9219\n",
      "Epoch 4/125\n",
      "87/87 - 0s - loss: 211376.5156 - val_loss: 178256.4844\n",
      "Epoch 5/125\n",
      "87/87 - 0s - loss: 189935.9375 - val_loss: 172862.5000\n",
      "Epoch 6/125\n",
      "87/87 - 0s - loss: 184560.3750 - val_loss: 170849.5000\n",
      "Epoch 7/125\n",
      "87/87 - 0s - loss: 182347.7969 - val_loss: 166838.8281\n",
      "Epoch 8/125\n",
      "87/87 - 0s - loss: 179916.6562 - val_loss: 165596.7031\n",
      "Epoch 9/125\n",
      "87/87 - 0s - loss: 178487.7969 - val_loss: 162683.0000\n",
      "Epoch 10/125\n",
      "87/87 - 0s - loss: 176995.0938 - val_loss: 161766.5156\n",
      "Epoch 11/125\n",
      "87/87 - 0s - loss: 176061.6875 - val_loss: 161260.1094\n",
      "Epoch 12/125\n",
      "87/87 - 0s - loss: 175269.6094 - val_loss: 159445.9531\n",
      "Epoch 13/125\n",
      "87/87 - 0s - loss: 174679.5781 - val_loss: 158342.9219\n",
      "Epoch 14/125\n",
      "87/87 - 0s - loss: 174185.0312 - val_loss: 158367.8594\n",
      "Epoch 15/125\n",
      "87/87 - 0s - loss: 173181.1406 - val_loss: 157309.1875\n",
      "Epoch 16/125\n",
      "87/87 - 0s - loss: 173510.5469 - val_loss: 157005.8438\n",
      "Epoch 17/125\n",
      "87/87 - 0s - loss: 172455.3281 - val_loss: 156778.0156\n",
      "Epoch 18/125\n",
      "87/87 - 0s - loss: 172033.8594 - val_loss: 155750.4062\n",
      "Epoch 19/125\n",
      "87/87 - 0s - loss: 171615.3906 - val_loss: 155644.8125\n",
      "Epoch 20/125\n",
      "87/87 - 0s - loss: 171328.5156 - val_loss: 155685.4375\n",
      "Epoch 21/125\n",
      "87/87 - 0s - loss: 171297.2656 - val_loss: 154996.3125\n",
      "Epoch 22/125\n",
      "87/87 - 0s - loss: 171026.0469 - val_loss: 155021.1406\n",
      "Epoch 23/125\n",
      "87/87 - 0s - loss: 171353.0469 - val_loss: 154976.8281\n",
      "Epoch 24/125\n",
      "87/87 - 0s - loss: 170794.7812 - val_loss: 154939.9844\n",
      "Epoch 25/125\n",
      "87/87 - 0s - loss: 170565.9688 - val_loss: 154465.9531\n",
      "Epoch 26/125\n",
      "87/87 - 0s - loss: 170552.6250 - val_loss: 154567.5781\n",
      "Epoch 27/125\n",
      "87/87 - 0s - loss: 170285.9688 - val_loss: 154204.1250\n",
      "Epoch 28/125\n",
      "87/87 - 0s - loss: 170094.3906 - val_loss: 154159.5312\n",
      "Epoch 29/125\n",
      "87/87 - 0s - loss: 170076.7656 - val_loss: 154078.6719\n",
      "Epoch 30/125\n",
      "87/87 - 0s - loss: 169956.8906 - val_loss: 153964.5156\n",
      "Epoch 31/125\n",
      "87/87 - 0s - loss: 169945.3750 - val_loss: 154045.9375\n",
      "Epoch 32/125\n",
      "87/87 - 0s - loss: 169991.6719 - val_loss: 153882.5156\n",
      "Epoch 33/125\n",
      "87/87 - 0s - loss: 170022.7969 - val_loss: 154270.1875\n",
      "Epoch 34/125\n",
      "87/87 - 0s - loss: 169889.0781 - val_loss: 153573.7656\n",
      "Epoch 35/125\n",
      "87/87 - 0s - loss: 169934.3281 - val_loss: 153313.4219\n",
      "Epoch 36/125\n",
      "87/87 - 0s - loss: 169440.2812 - val_loss: 153319.9062\n",
      "Epoch 37/125\n",
      "87/87 - 0s - loss: 169660.2188 - val_loss: 153519.4375\n",
      "Epoch 38/125\n",
      "87/87 - 0s - loss: 169738.8906 - val_loss: 153327.7500\n",
      "Epoch 39/125\n",
      "87/87 - 0s - loss: 169014.2188 - val_loss: 155945.2812\n",
      "Epoch 40/125\n",
      "87/87 - 0s - loss: 170164.9531 - val_loss: 153007.9375\n",
      "Epoch 41/125\n",
      "87/87 - 0s - loss: 169373.5938 - val_loss: 153673.0625\n",
      "Epoch 42/125\n",
      "87/87 - 0s - loss: 169093.1719 - val_loss: 153262.9375\n",
      "Epoch 43/125\n",
      "87/87 - 0s - loss: 169483.6719 - val_loss: 153164.2500\n",
      "Epoch 44/125\n",
      "87/87 - 0s - loss: 169026.2500 - val_loss: 153280.1562\n",
      "Epoch 45/125\n",
      "87/87 - 0s - loss: 169347.3906 - val_loss: 153357.0938\n",
      "Epoch 46/125\n",
      "87/87 - 0s - loss: 168933.8438 - val_loss: 153078.3750\n",
      "Epoch 47/125\n",
      "87/87 - 0s - loss: 168937.5938 - val_loss: 153350.5625\n",
      "Epoch 48/125\n",
      "87/87 - 0s - loss: 168828.8594 - val_loss: 154120.1875\n",
      "Epoch 49/125\n",
      "87/87 - 0s - loss: 169354.5000 - val_loss: 153156.8750\n",
      "Epoch 50/125\n",
      "87/87 - 0s - loss: 168958.6875 - val_loss: 152861.9375\n",
      "Epoch 51/125\n",
      "87/87 - 0s - loss: 168910.1875 - val_loss: 153054.4531\n",
      "Epoch 52/125\n",
      "87/87 - 0s - loss: 168953.7812 - val_loss: 153061.8750\n",
      "Epoch 53/125\n",
      "87/87 - 0s - loss: 168701.4844 - val_loss: 153689.7188\n",
      "Epoch 54/125\n",
      "87/87 - 0s - loss: 168862.6719 - val_loss: 153784.6094\n",
      "Epoch 55/125\n",
      "87/87 - 0s - loss: 168853.9688 - val_loss: 153089.6875\n",
      "Epoch 56/125\n",
      "87/87 - 0s - loss: 168581.9375 - val_loss: 152897.1406\n",
      "Epoch 57/125\n",
      "87/87 - 0s - loss: 168584.8594 - val_loss: 152811.4375\n",
      "Epoch 58/125\n",
      "87/87 - 0s - loss: 168802.8594 - val_loss: 153108.8750\n",
      "Epoch 59/125\n",
      "87/87 - 0s - loss: 168810.3750 - val_loss: 152864.8750\n",
      "Epoch 60/125\n",
      "87/87 - 0s - loss: 168540.1406 - val_loss: 152800.7812\n",
      "Epoch 61/125\n",
      "87/87 - 0s - loss: 168637.5781 - val_loss: 152719.8906\n",
      "Epoch 62/125\n",
      "87/87 - 0s - loss: 168544.3750 - val_loss: 152804.6406\n",
      "Epoch 63/125\n",
      "87/87 - 0s - loss: 169124.6562 - val_loss: 152699.0312\n",
      "Epoch 64/125\n",
      "87/87 - 0s - loss: 168472.2031 - val_loss: 152940.9688\n",
      "Epoch 65/125\n",
      "87/87 - 0s - loss: 168317.0938 - val_loss: 153023.9688\n",
      "Epoch 66/125\n",
      "87/87 - 0s - loss: 168367.3438 - val_loss: 153042.7188\n",
      "Epoch 67/125\n",
      "87/87 - 0s - loss: 168424.1562 - val_loss: 153262.0469\n",
      "Epoch 68/125\n",
      "87/87 - 0s - loss: 168411.1406 - val_loss: 152677.0156\n",
      "Epoch 69/125\n",
      "87/87 - 0s - loss: 168254.9219 - val_loss: 152922.5312\n",
      "Epoch 70/125\n",
      "87/87 - 0s - loss: 168346.7969 - val_loss: 152845.7344\n",
      "Epoch 71/125\n",
      "87/87 - 0s - loss: 168241.3281 - val_loss: 152957.2656\n",
      "Epoch 72/125\n",
      "87/87 - 0s - loss: 168511.0469 - val_loss: 153116.4844\n",
      "Epoch 73/125\n",
      "87/87 - 0s - loss: 168287.1250 - val_loss: 152535.2031\n",
      "Epoch 74/125\n",
      "87/87 - 0s - loss: 168370.5781 - val_loss: 152723.6094\n",
      "Epoch 75/125\n",
      "87/87 - 0s - loss: 168312.6406 - val_loss: 152755.3906\n",
      "Epoch 76/125\n",
      "87/87 - 0s - loss: 167930.5469 - val_loss: 154036.9688\n",
      "Epoch 77/125\n",
      "87/87 - 0s - loss: 168212.7344 - val_loss: 152756.8125\n",
      "Epoch 78/125\n",
      "87/87 - 0s - loss: 168052.7188 - val_loss: 152962.9375\n",
      "Epoch 79/125\n",
      "87/87 - 0s - loss: 168159.2812 - val_loss: 152828.1094\n",
      "Epoch 80/125\n",
      "87/87 - 0s - loss: 167883.0312 - val_loss: 152631.3281\n",
      "Epoch 81/125\n",
      "87/87 - 0s - loss: 168224.3438 - val_loss: 152919.0938\n",
      "Epoch 82/125\n",
      "87/87 - 0s - loss: 168212.0156 - val_loss: 152429.8906\n",
      "Epoch 83/125\n",
      "87/87 - 0s - loss: 167789.0156 - val_loss: 152564.1250\n",
      "Epoch 84/125\n",
      "87/87 - 0s - loss: 168175.2656 - val_loss: 152394.6719\n",
      "Epoch 85/125\n",
      "87/87 - 0s - loss: 168000.9219 - val_loss: 152489.5156\n",
      "Epoch 86/125\n",
      "87/87 - 0s - loss: 167925.7031 - val_loss: 152501.7500\n",
      "Epoch 87/125\n",
      "87/87 - 0s - loss: 168509.1875 - val_loss: 152294.9531\n",
      "Epoch 88/125\n",
      "87/87 - 0s - loss: 168267.6250 - val_loss: 152505.5938\n",
      "Epoch 89/125\n",
      "87/87 - 0s - loss: 168122.5469 - val_loss: 153132.6250\n",
      "Epoch 90/125\n",
      "87/87 - 0s - loss: 167794.3125 - val_loss: 153606.1250\n",
      "Epoch 91/125\n",
      "87/87 - 0s - loss: 168017.4375 - val_loss: 152590.5469\n",
      "Epoch 92/125\n",
      "87/87 - 0s - loss: 167786.7656 - val_loss: 152900.5000\n",
      "Epoch 93/125\n",
      "87/87 - 0s - loss: 167996.8438 - val_loss: 153097.4375\n",
      "Epoch 94/125\n",
      "87/87 - 0s - loss: 167663.4844 - val_loss: 152759.1719\n",
      "Epoch 95/125\n",
      "87/87 - 0s - loss: 167784.4062 - val_loss: 153114.9219\n",
      "Epoch 96/125\n",
      "87/87 - 0s - loss: 167862.3906 - val_loss: 152545.1406\n",
      "Epoch 97/125\n",
      "87/87 - 0s - loss: 167838.3906 - val_loss: 152708.1562\n",
      "Epoch 98/125\n",
      "87/87 - 0s - loss: 168017.6719 - val_loss: 152714.7344\n",
      "Epoch 99/125\n",
      "87/87 - 0s - loss: 167878.0000 - val_loss: 152514.7656\n",
      "Epoch 100/125\n",
      "87/87 - 0s - loss: 167893.6875 - val_loss: 152795.4375\n",
      "Epoch 101/125\n",
      "87/87 - 0s - loss: 167951.0625 - val_loss: 152628.2500\n",
      "Epoch 102/125\n",
      "87/87 - 0s - loss: 167808.1562 - val_loss: 152981.3594\n",
      "Epoch 103/125\n",
      "87/87 - 0s - loss: 167654.3281 - val_loss: 152715.7500\n",
      "Epoch 104/125\n",
      "87/87 - 0s - loss: 168034.2031 - val_loss: 152618.5000\n",
      "Epoch 105/125\n",
      "87/87 - 0s - loss: 167839.4844 - val_loss: 152562.8594\n",
      "Epoch 106/125\n",
      "87/87 - 0s - loss: 167735.6719 - val_loss: 152442.3594\n",
      "Epoch 107/125\n",
      "87/87 - 0s - loss: 167689.2812 - val_loss: 152677.2344\n",
      "Epoch 108/125\n",
      "87/87 - 0s - loss: 167846.9531 - val_loss: 152203.2188\n",
      "Epoch 109/125\n",
      "87/87 - 0s - loss: 167822.1875 - val_loss: 152490.0000\n",
      "Epoch 110/125\n",
      "87/87 - 0s - loss: 167807.3281 - val_loss: 152512.2969\n",
      "Epoch 111/125\n",
      "87/87 - 0s - loss: 167919.7500 - val_loss: 152721.8281\n",
      "Epoch 112/125\n",
      "87/87 - 0s - loss: 167645.1562 - val_loss: 152618.5625\n",
      "Epoch 113/125\n",
      "87/87 - 0s - loss: 167428.3281 - val_loss: 152476.9688\n",
      "Epoch 114/125\n",
      "87/87 - 0s - loss: 167498.3125 - val_loss: 153394.8594\n",
      "Epoch 115/125\n",
      "87/87 - 0s - loss: 167462.9062 - val_loss: 152355.5625\n",
      "Epoch 116/125\n",
      "87/87 - 0s - loss: 167610.2656 - val_loss: 152692.7031\n",
      "Epoch 117/125\n",
      "87/87 - 0s - loss: 167849.0312 - val_loss: 152596.6562\n",
      "Epoch 118/125\n",
      "87/87 - 0s - loss: 167513.5938 - val_loss: 152811.8906\n",
      "Epoch 119/125\n",
      "87/87 - 0s - loss: 167434.5312 - val_loss: 152903.4062\n",
      "Epoch 120/125\n",
      "87/87 - 0s - loss: 167791.7031 - val_loss: 152579.6406\n",
      "Epoch 121/125\n",
      "87/87 - 0s - loss: 167526.8438 - val_loss: 152645.2344\n"
     ]
    },
    {
     "name": "stdout",
     "output_type": "stream",
     "text": [
      "Epoch 122/125\n",
      "87/87 - 0s - loss: 167449.6094 - val_loss: 152860.5312\n",
      "Epoch 123/125\n",
      "87/87 - 0s - loss: 167487.4844 - val_loss: 152535.0469\n",
      "Epoch 124/125\n",
      "87/87 - 0s - loss: 167465.4688 - val_loss: 152925.0781\n",
      "Epoch 125/125\n",
      "87/87 - 0s - loss: 167340.8594 - val_loss: 152720.0156\n"
     ]
    }
   ],
   "source": [
    "input_size=11\n",
    "output_size=1\n",
    "\n",
    "model=tf.keras.Sequential([\n",
    "    \n",
    "                            \n",
    "                            tf.keras.layers.Dense(11,activation='softplus'),\n",
    "    \n",
    "                            tf.keras.layers.Dense(128,activation='softplus'),\n",
    "                            tf.keras.layers.Dense(64,activation='softplus'),\n",
    "                            tf.keras.layers.Dense(64,activation='softplus'),\n",
    "                            tf.keras.layers.Dense(10,activation='softplus'),\n",
    "                            tf.keras.layers.Dense(1,activation='softplus')\n",
    "                    \n",
    "                        ])\n",
    "\n",
    "model.compile(optimizer=tf.keras.optimizers.Adam(0.001),loss=('mean_absolute_error'))\n",
    "\n",
    "\n",
    "history=model.fit(X_train_scaled, y_train, epochs=125, validation_split = 0.2,verbose=2)\n",
    "hist  = pd.DataFrame(history.history)\n",
    "hist['epoch'] = history.epoch"
   ]
  },
  {
   "cell_type": "code",
   "execution_count": 15,
   "metadata": {
    "scrolled": true
   },
   "outputs": [
    {
     "data": {
      "image/png": "[encoded data removed]",
      "text/plain": [
       "<Figure size 432x288 with 1 Axes>"
      ]
     },
     "metadata": {
      "needs_background": "light"
     },
     "output_type": "display_data"
    }
   ],
   "source": [
    "loss = history.history['loss']\n",
    "val_loss = history.history['val_loss']\n",
    "epochs = range(1, len(loss) + 1)\n",
    "plt.plot(epochs, loss, 'y', label='Training loss')\n",
    "plt.plot(epochs, val_loss, 'r', label='Validation loss')\n",
    "plt.title('Training and validation loss')\n",
    "plt.xlabel('Epochs')\n",
    "plt.ylabel('Loss')\n",
    "plt.legend()\n",
    "plt.show()"
   ]
  },
  {
   "cell_type": "markdown",
   "metadata": {},
   "source": [
    "this graph shous us that we are not overfitting since validation loss is always less than the training loss"
   ]
  },
  {
   "cell_type": "markdown",
   "metadata": {},
   "source": [
    "# Prediction on test DataSet"
   ]
  },
  {
   "cell_type": "code",
   "execution_count": 16,
   "metadata": {},
   "outputs": [
    {
     "name": "stdout",
     "output_type": "stream",
     "text": [
      "Predicted values are:  [[785540.3 ]\n",
      " [572171.3 ]\n",
      " [421024.3 ]\n",
      " [646984.8 ]\n",
      " [275223.28]]\n",
      "Real values are:  2899    600000.0\n",
      "61      459990.0\n",
      "1627    399000.0\n",
      "202     562000.0\n",
      "2374    405000.0\n",
      "Name: price, dtype: float64\n"
     ]
    }
   ],
   "source": [
    "predictions = model.predict(X_test_scaled[:5])\n",
    "print(\"Predicted values are: \", predictions)\n",
    "print(\"Real values are: \", y_test[:5])"
   ]
  },
  {
   "cell_type": "code",
   "execution_count": 17,
   "metadata": {},
   "outputs": [
    {
     "name": "stdout",
     "output_type": "stream",
     "text": [
      "36/36 [==============================] - 0s 914us/step - loss: 155858.4844\n",
      "Mean absolute error from neural net:  155858.484375\n"
     ]
    }
   ],
   "source": [
    "mae_neural = model.evaluate(X_test_scaled, y_test)\n",
    "print('Mean absolute error from neural net: ', mae_neural)"
   ]
  },
  {
   "cell_type": "markdown",
   "metadata": {},
   "source": [
    "# Linear regression"
   ]
  },
  {
   "cell_type": "code",
   "execution_count": 18,
   "metadata": {},
   "outputs": [],
   "source": [
    "from sklearn import linear_model\n",
    "from sklearn.tree import DecisionTreeRegressor\n",
    "from sklearn.metrics import mean_squared_error, mean_absolute_error"
   ]
  },
  {
   "cell_type": "code",
   "execution_count": 19,
   "metadata": {},
   "outputs": [
    {
     "name": "stdout",
     "output_type": "stream",
     "text": [
      "Mean absolute error from linear regression:  162463.5442164709\n"
     ]
    }
   ],
   "source": [
    "lr_model = linear_model.LinearRegression()\n",
    "lr_model.fit(X_train_scaled, y_train)\n",
    "y_pred_lr = lr_model.predict(X_test_scaled)\n",
    "mae_lr = mean_absolute_error(y_test, y_pred_lr)\n",
    "print('Mean absolute error from linear regression: ', mae_lr)"
   ]
  },
  {
   "cell_type": "markdown",
   "metadata": {},
   "source": [
    "# Decision tree"
   ]
  },
  {
   "cell_type": "code",
   "execution_count": 20,
   "metadata": {},
   "outputs": [
    {
     "name": "stdout",
     "output_type": "stream",
     "text": [
      "Mean absolute error using decision tree:  225975.8001562609\n"
     ]
    }
   ],
   "source": [
    "tree = DecisionTreeRegressor()\n",
    "tree.fit(X_train_scaled, y_train)\n",
    "y_pred_tree = tree.predict(X_test_scaled)\n",
    "mae_dt = mean_absolute_error(y_test, y_pred_tree)\n",
    "print('Mean absolute error using decision tree: ', mae_dt)"
   ]
  },
  {
   "cell_type": "markdown",
   "metadata": {},
   "source": [
    "# Random forest.\n",
    "#Increasing the number of tress and seeing the effect"
   ]
  },
  {
   "cell_type": "code",
   "execution_count": 21,
   "metadata": {},
   "outputs": [
    {
     "data": {
      "text/plain": [
       "RandomForestRegressor(n_estimators=30, random_state=30)"
      ]
     },
     "execution_count": 21,
     "metadata": {},
     "output_type": "execute_result"
    }
   ],
   "source": [
    "from sklearn.ensemble import RandomForestRegressor\n",
    "model = RandomForestRegressor(n_estimators = 30, random_state=30)\n",
    "model.fit(X_train_scaled, y_train)"
   ]
  },
  {
   "cell_type": "code",
   "execution_count": 22,
   "metadata": {},
   "outputs": [],
   "source": [
    "y_pred_RF = model.predict(X_test_scaled)"
   ]
  },
  {
   "cell_type": "code",
   "execution_count": 23,
   "metadata": {},
   "outputs": [
    {
     "name": "stdout",
     "output_type": "stream",
     "text": [
      "Mean absolute error Using Random Forest:  171133.57828058646\n"
     ]
    }
   ],
   "source": [
    "mae_RF = mean_absolute_error(y_test, y_pred_RF)\n",
    "print('Mean absolute error Using Random Forest: ', mae_RF)"
   ]
  },
  {
   "cell_type": "markdown",
   "metadata": {},
   "source": [
    "### Features by Importance"
   ]
  },
  {
   "cell_type": "code",
   "execution_count": 24,
   "metadata": {},
   "outputs": [
    {
     "name": "stdout",
     "output_type": "stream",
     "text": [
      "sqft_living      0.361767\n",
      "sqft_lot         0.182554\n",
      "yr_built         0.145491\n",
      "bathrooms        0.079503\n",
      "sqft_above       0.075857\n",
      "condition        0.043626\n",
      "bedrooms         0.029093\n",
      "yr_renovated     0.024353\n",
      "sqft_basement    0.021691\n",
      "floors           0.018902\n",
      "view             0.017163\n",
      "dtype: float64\n"
     ]
    }
   ],
   "source": [
    "feature_list = list(X.columns)\n",
    "feature_imp = pd.Series(model.feature_importances_, index=feature_list).sort_values(ascending=False)\n",
    "print(feature_imp)"
   ]
  }
 ],
 "metadata": {
  "kernelspec": {
   "display_name": "Python 3",
   "language": "python",
   "name": "python3"
  },
  "language_info": {
   "codemirror_mode": {
    "name": "ipython",
    "version": 3
   },
   "file_extension": ".py",
   "mimetype": "text/x-python",
   "name": "python",
   "nbconvert_exporter": "python",
   "pygments_lexer": "ipython3",
   "version": "3.8.5"
  }
 },
 "nbformat": 4,
 "nbformat_minor": 4
}
